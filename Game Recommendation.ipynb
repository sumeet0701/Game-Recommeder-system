{
 "cells": [
  {
   "cell_type": "code",
   "execution_count": 1,
   "id": "63ff6514",
   "metadata": {},
   "outputs": [],
   "source": [
    "import numpy as np\n",
    "import pandas as pd\n",
    "import seaborn as sns\n",
    "import matplotlib.pyplot as plt\n",
    "%matplotlib inline\n",
    "import warnings\n",
    "warnings.filterwarnings('ignore' )"
   ]
  },
  {
   "cell_type": "code",
   "execution_count": 2,
   "id": "94ee4a61",
   "metadata": {},
   "outputs": [],
   "source": [
    "df = pd.read_csv('steam-200k.csv')\n"
   ]
  },
  {
   "cell_type": "code",
   "execution_count": 3,
   "id": "a91cc386",
   "metadata": {},
   "outputs": [
    {
     "data": {
      "text/html": [
       "<div>\n",
       "<style scoped>\n",
       "    .dataframe tbody tr th:only-of-type {\n",
       "        vertical-align: middle;\n",
       "    }\n",
       "\n",
       "    .dataframe tbody tr th {\n",
       "        vertical-align: top;\n",
       "    }\n",
       "\n",
       "    .dataframe thead th {\n",
       "        text-align: right;\n",
       "    }\n",
       "</style>\n",
       "<table border=\"1\" class=\"dataframe\">\n",
       "  <thead>\n",
       "    <tr style=\"text-align: right;\">\n",
       "      <th></th>\n",
       "      <th>151603712</th>\n",
       "      <th>The Elder Scrolls V Skyrim</th>\n",
       "      <th>purchase</th>\n",
       "      <th>1.0</th>\n",
       "      <th>0</th>\n",
       "    </tr>\n",
       "  </thead>\n",
       "  <tbody>\n",
       "    <tr>\n",
       "      <th>0</th>\n",
       "      <td>151603712</td>\n",
       "      <td>The Elder Scrolls V Skyrim</td>\n",
       "      <td>play</td>\n",
       "      <td>273.0</td>\n",
       "      <td>0</td>\n",
       "    </tr>\n",
       "    <tr>\n",
       "      <th>1</th>\n",
       "      <td>151603712</td>\n",
       "      <td>Fallout 4</td>\n",
       "      <td>purchase</td>\n",
       "      <td>1.0</td>\n",
       "      <td>0</td>\n",
       "    </tr>\n",
       "    <tr>\n",
       "      <th>2</th>\n",
       "      <td>151603712</td>\n",
       "      <td>Fallout 4</td>\n",
       "      <td>play</td>\n",
       "      <td>87.0</td>\n",
       "      <td>0</td>\n",
       "    </tr>\n",
       "    <tr>\n",
       "      <th>3</th>\n",
       "      <td>151603712</td>\n",
       "      <td>Spore</td>\n",
       "      <td>purchase</td>\n",
       "      <td>1.0</td>\n",
       "      <td>0</td>\n",
       "    </tr>\n",
       "    <tr>\n",
       "      <th>4</th>\n",
       "      <td>151603712</td>\n",
       "      <td>Spore</td>\n",
       "      <td>play</td>\n",
       "      <td>14.9</td>\n",
       "      <td>0</td>\n",
       "    </tr>\n",
       "  </tbody>\n",
       "</table>\n",
       "</div>"
      ],
      "text/plain": [
       "   151603712  The Elder Scrolls V Skyrim  purchase    1.0  0\n",
       "0  151603712  The Elder Scrolls V Skyrim      play  273.0  0\n",
       "1  151603712                   Fallout 4  purchase    1.0  0\n",
       "2  151603712                   Fallout 4      play   87.0  0\n",
       "3  151603712                       Spore  purchase    1.0  0\n",
       "4  151603712                       Spore      play   14.9  0"
      ]
     },
     "execution_count": 3,
     "metadata": {},
     "output_type": "execute_result"
    }
   ],
   "source": [
    "df.head()"
   ]
  },
  {
   "cell_type": "code",
   "execution_count": 4,
   "id": "8a7ad8a7",
   "metadata": {},
   "outputs": [],
   "source": [
    "cols = {'151603712':'game_id','The Elder Scrolls V Skyrim':'game_name','purchase':'status','1.0':'Hourplayed'}\n",
    "df.rename(columns = cols,inplace =True)"
   ]
  },
  {
   "cell_type": "code",
   "execution_count": 5,
   "id": "b03a35ec",
   "metadata": {},
   "outputs": [
    {
     "data": {
      "text/html": [
       "<div>\n",
       "<style scoped>\n",
       "    .dataframe tbody tr th:only-of-type {\n",
       "        vertical-align: middle;\n",
       "    }\n",
       "\n",
       "    .dataframe tbody tr th {\n",
       "        vertical-align: top;\n",
       "    }\n",
       "\n",
       "    .dataframe thead th {\n",
       "        text-align: right;\n",
       "    }\n",
       "</style>\n",
       "<table border=\"1\" class=\"dataframe\">\n",
       "  <thead>\n",
       "    <tr style=\"text-align: right;\">\n",
       "      <th></th>\n",
       "      <th>game_id</th>\n",
       "      <th>game_name</th>\n",
       "      <th>status</th>\n",
       "      <th>Hourplayed</th>\n",
       "      <th>0</th>\n",
       "    </tr>\n",
       "  </thead>\n",
       "  <tbody>\n",
       "    <tr>\n",
       "      <th>0</th>\n",
       "      <td>151603712</td>\n",
       "      <td>The Elder Scrolls V Skyrim</td>\n",
       "      <td>play</td>\n",
       "      <td>273.0</td>\n",
       "      <td>0</td>\n",
       "    </tr>\n",
       "    <tr>\n",
       "      <th>1</th>\n",
       "      <td>151603712</td>\n",
       "      <td>Fallout 4</td>\n",
       "      <td>purchase</td>\n",
       "      <td>1.0</td>\n",
       "      <td>0</td>\n",
       "    </tr>\n",
       "    <tr>\n",
       "      <th>2</th>\n",
       "      <td>151603712</td>\n",
       "      <td>Fallout 4</td>\n",
       "      <td>play</td>\n",
       "      <td>87.0</td>\n",
       "      <td>0</td>\n",
       "    </tr>\n",
       "    <tr>\n",
       "      <th>3</th>\n",
       "      <td>151603712</td>\n",
       "      <td>Spore</td>\n",
       "      <td>purchase</td>\n",
       "      <td>1.0</td>\n",
       "      <td>0</td>\n",
       "    </tr>\n",
       "    <tr>\n",
       "      <th>4</th>\n",
       "      <td>151603712</td>\n",
       "      <td>Spore</td>\n",
       "      <td>play</td>\n",
       "      <td>14.9</td>\n",
       "      <td>0</td>\n",
       "    </tr>\n",
       "  </tbody>\n",
       "</table>\n",
       "</div>"
      ],
      "text/plain": [
       "     game_id                   game_name    status  Hourplayed  0\n",
       "0  151603712  The Elder Scrolls V Skyrim      play       273.0  0\n",
       "1  151603712                   Fallout 4  purchase         1.0  0\n",
       "2  151603712                   Fallout 4      play        87.0  0\n",
       "3  151603712                       Spore  purchase         1.0  0\n",
       "4  151603712                       Spore      play        14.9  0"
      ]
     },
     "execution_count": 5,
     "metadata": {},
     "output_type": "execute_result"
    }
   ],
   "source": [
    "df.head()"
   ]
  },
  {
   "cell_type": "code",
   "execution_count": 6,
   "id": "99bd3917",
   "metadata": {},
   "outputs": [],
   "source": [
    "df.drop(columns =['0'],inplace =True)"
   ]
  },
  {
   "cell_type": "code",
   "execution_count": 7,
   "id": "1f5b4c62",
   "metadata": {},
   "outputs": [
    {
     "data": {
      "text/plain": [
       "(199999, 4)"
      ]
     },
     "execution_count": 7,
     "metadata": {},
     "output_type": "execute_result"
    }
   ],
   "source": [
    "df.shape"
   ]
  },
  {
   "cell_type": "code",
   "execution_count": 8,
   "id": "a9cae1da",
   "metadata": {},
   "outputs": [
    {
     "data": {
      "text/plain": [
       "707"
      ]
     },
     "execution_count": 8,
     "metadata": {},
     "output_type": "execute_result"
    }
   ],
   "source": [
    "df.duplicated().sum()"
   ]
  },
  {
   "cell_type": "code",
   "execution_count": 9,
   "id": "a6521a7a",
   "metadata": {},
   "outputs": [],
   "source": [
    "# droping a duplicated values:\n",
    "df.drop_duplicates(inplace=True)"
   ]
  },
  {
   "cell_type": "code",
   "execution_count": 10,
   "id": "f4e8943f",
   "metadata": {},
   "outputs": [
    {
     "data": {
      "text/plain": [
       "game_id       0\n",
       "game_name     0\n",
       "status        0\n",
       "Hourplayed    0\n",
       "dtype: int64"
      ]
     },
     "execution_count": 10,
     "metadata": {},
     "output_type": "execute_result"
    }
   ],
   "source": [
    "df.isnull().sum()"
   ]
  },
  {
   "cell_type": "code",
   "execution_count": 11,
   "id": "fffa1594",
   "metadata": {},
   "outputs": [
    {
     "name": "stdout",
     "output_type": "stream",
     "text": [
      "<class 'pandas.core.frame.DataFrame'>\n",
      "Int64Index: 199292 entries, 0 to 199998\n",
      "Data columns (total 4 columns):\n",
      " #   Column      Non-Null Count   Dtype  \n",
      "---  ------      --------------   -----  \n",
      " 0   game_id     199292 non-null  int64  \n",
      " 1   game_name   199292 non-null  object \n",
      " 2   status      199292 non-null  object \n",
      " 3   Hourplayed  199292 non-null  float64\n",
      "dtypes: float64(1), int64(1), object(2)\n",
      "memory usage: 7.6+ MB\n"
     ]
    }
   ],
   "source": [
    "df.info()"
   ]
  },
  {
   "cell_type": "code",
   "execution_count": 12,
   "id": "bf78a643",
   "metadata": {},
   "outputs": [
    {
     "data": {
      "text/html": [
       "<div>\n",
       "<style scoped>\n",
       "    .dataframe tbody tr th:only-of-type {\n",
       "        vertical-align: middle;\n",
       "    }\n",
       "\n",
       "    .dataframe tbody tr th {\n",
       "        vertical-align: top;\n",
       "    }\n",
       "\n",
       "    .dataframe thead th {\n",
       "        text-align: right;\n",
       "    }\n",
       "</style>\n",
       "<table border=\"1\" class=\"dataframe\">\n",
       "  <thead>\n",
       "    <tr style=\"text-align: right;\">\n",
       "      <th></th>\n",
       "      <th>game_id</th>\n",
       "      <th>Hourplayed</th>\n",
       "    </tr>\n",
       "  </thead>\n",
       "  <tbody>\n",
       "    <tr>\n",
       "      <th>count</th>\n",
       "      <td>199292</td>\n",
       "      <td>199292</td>\n",
       "    </tr>\n",
       "    <tr>\n",
       "      <th>mean</th>\n",
       "      <td>103717860</td>\n",
       "      <td>17</td>\n",
       "    </tr>\n",
       "    <tr>\n",
       "      <th>std</th>\n",
       "      <td>72120577</td>\n",
       "      <td>138</td>\n",
       "    </tr>\n",
       "    <tr>\n",
       "      <th>min</th>\n",
       "      <td>5250</td>\n",
       "      <td>0</td>\n",
       "    </tr>\n",
       "    <tr>\n",
       "      <th>25%</th>\n",
       "      <td>47384303</td>\n",
       "      <td>1</td>\n",
       "    </tr>\n",
       "    <tr>\n",
       "      <th>50%</th>\n",
       "      <td>86912006</td>\n",
       "      <td>1</td>\n",
       "    </tr>\n",
       "    <tr>\n",
       "      <th>75%</th>\n",
       "      <td>154230933</td>\n",
       "      <td>1</td>\n",
       "    </tr>\n",
       "    <tr>\n",
       "      <th>max</th>\n",
       "      <td>309903146</td>\n",
       "      <td>11754</td>\n",
       "    </tr>\n",
       "  </tbody>\n",
       "</table>\n",
       "</div>"
      ],
      "text/plain": [
       "         game_id  Hourplayed\n",
       "count     199292      199292\n",
       "mean   103717860          17\n",
       "std     72120577         138\n",
       "min         5250           0\n",
       "25%     47384303           1\n",
       "50%     86912006           1\n",
       "75%    154230933           1\n",
       "max    309903146       11754"
      ]
     },
     "execution_count": 12,
     "metadata": {},
     "output_type": "execute_result"
    }
   ],
   "source": [
    "df.describe().astype(int)"
   ]
  },
  {
   "cell_type": "code",
   "execution_count": 13,
   "id": "6f496093",
   "metadata": {},
   "outputs": [
    {
     "data": {
      "text/plain": [
       "game_id       12393\n",
       "game_name      5155\n",
       "status            2\n",
       "Hourplayed     1593\n",
       "dtype: int64"
      ]
     },
     "execution_count": 13,
     "metadata": {},
     "output_type": "execute_result"
    }
   ],
   "source": [
    "df.nunique()"
   ]
  },
  {
   "cell_type": "code",
   "execution_count": 14,
   "id": "3c802770",
   "metadata": {},
   "outputs": [
    {
     "data": {
      "text/plain": [
       "array(['The Elder Scrolls V Skyrim', 'Fallout 4', 'Spore', ...,\n",
       "       'Space Colony', 'Life is Hard', 'Executive Assault'], dtype=object)"
      ]
     },
     "execution_count": 14,
     "metadata": {},
     "output_type": "execute_result"
    }
   ],
   "source": [
    "df['game_name'].unique()"
   ]
  },
  {
   "cell_type": "code",
   "execution_count": 15,
   "id": "50062e3e",
   "metadata": {},
   "outputs": [
    {
     "data": {
      "text/plain": [
       "Dota 2                             9682\n",
       "Team Fortress 2                    4646\n",
       "Counter-Strike Global Offensive    2789\n",
       "Unturned                           2632\n",
       "Left 4 Dead 2                      1752\n",
       "                                   ... \n",
       "Putt-Putt Joins the Parade            1\n",
       "Ducati World Championship             1\n",
       "Chunk of Change Knight                1\n",
       "STASIS                                1\n",
       "Soccertron                            1\n",
       "Name: game_name, Length: 5155, dtype: int64"
      ]
     },
     "execution_count": 15,
     "metadata": {},
     "output_type": "execute_result"
    }
   ],
   "source": [
    "df['game_name'].value_counts()"
   ]
  },
  {
   "cell_type": "code",
   "execution_count": 16,
   "id": "3b721348",
   "metadata": {},
   "outputs": [
    {
     "data": {
      "text/plain": [
       "purchase    128803\n",
       "play         70489\n",
       "Name: status, dtype: int64"
      ]
     },
     "execution_count": 16,
     "metadata": {},
     "output_type": "execute_result"
    }
   ],
   "source": [
    "df['status'].value_counts()"
   ]
  },
  {
   "cell_type": "code",
   "execution_count": 17,
   "id": "64a4abe4",
   "metadata": {},
   "outputs": [
    {
     "data": {
      "text/plain": [
       "<AxesSubplot:ylabel='status'>"
      ]
     },
     "execution_count": 17,
     "metadata": {},
     "output_type": "execute_result"
    },
    {
     "data": {
      "image/png": "[encoded data removed]",
      "text/plain": [
       "<Figure size 432x288 with 1 Axes>"
      ]
     },
     "metadata": {},
     "output_type": "display_data"
    }
   ],
   "source": [
    "df['status'].value_counts().plot(kind ='pie',autopct = '%1.1f%%')"
   ]
  },
  {
   "cell_type": "code",
   "execution_count": 18,
   "id": "c727de5d",
   "metadata": {},
   "outputs": [
    {
     "data": {
      "image/png": "[encoded data removed]",
      "text/plain": [
       "<Figure size 432x288 with 1 Axes>"
      ]
     },
     "metadata": {
      "needs_background": "light"
     },
     "output_type": "display_data"
    },
    {
     "data": {
      "image/png": "[encoded data removed]",
      "text/plain": [
       "<Figure size 432x288 with 1 Axes>"
      ]
     },
     "metadata": {
      "needs_background": "light"
     },
     "output_type": "display_data"
    }
   ],
   "source": [
    "for i in ['status','Hourplayed']:\n",
    "    plt.hist(df[i])\n",
    "    plt.show()"
   ]
  },
  {
   "cell_type": "code",
   "execution_count": 19,
   "id": "9c2f83a0",
   "metadata": {},
   "outputs": [
    {
     "data": {
      "text/plain": [
       "<AxesSubplot:>"
      ]
     },
     "execution_count": 19,
     "metadata": {},
     "output_type": "execute_result"
    },
    {
     "data": {
      "image/png": "[encoded data removed]",
      "text/plain": [
       "<Figure size 1080x432 with 1 Axes>"
      ]
     },
     "metadata": {
      "needs_background": "light"
     },
     "output_type": "display_data"
    }
   ],
   "source": [
    "# plotting the top 15 games:\n",
    "df['game_name'].value_counts().head(15).plot(kind = 'bar',figsize =(15,6))"
   ]
  },
  {
   "cell_type": "code",
   "execution_count": 20,
   "id": "38942809",
   "metadata": {},
   "outputs": [
    {
     "data": {
      "text/plain": [
       "<AxesSubplot:ylabel='game_name'>"
      ]
     },
     "execution_count": 20,
     "metadata": {},
     "output_type": "execute_result"
    },
    {
     "data": {
      "image/png": "[encoded data removed]",
      "text/plain": [
       "<Figure size 1080x432 with 1 Axes>"
      ]
     },
     "metadata": {},
     "output_type": "display_data"
    }
   ],
   "source": [
    "df['game_name'].value_counts().head(15).plot(kind = 'pie',figsize =(15,6), autopct = '%1.1f%%')"
   ]
  },
  {
   "cell_type": "code",
   "execution_count": 21,
   "id": "a84503b9",
   "metadata": {},
   "outputs": [
    {
     "data": {
      "text/plain": [
       "<AxesSubplot:xlabel='status', ylabel='Hourplayed'>"
      ]
     },
     "execution_count": 21,
     "metadata": {},
     "output_type": "execute_result"
    },
    {
     "data": {
      "image/png": "[encoded data removed]",
      "text/plain": [
       "<Figure size 432x288 with 1 Axes>"
      ]
     },
     "metadata": {
      "needs_background": "light"
     },
     "output_type": "display_data"
    }
   ],
   "source": [
    "# box plot:\n",
    "sns.boxplot(x = 'status',y ='Hourplayed',data = df,palette='rainbow')"
   ]
  },
  {
   "cell_type": "markdown",
   "id": "882ac3ae",
   "metadata": {},
   "source": [
    "# Converting Hour into Rating:"
   ]
  },
  {
   "cell_type": "code",
   "execution_count": 22,
   "id": "2fc27dd5",
   "metadata": {},
   "outputs": [],
   "source": [
    "# from this we get id of player how had played a game for more than or equal to 2 hours\n",
    "df= df[(df['Hourplayed']>=2) & (df['status']=='play')]"
   ]
  },
  {
   "cell_type": "code",
   "execution_count": 23,
   "id": "ff5c1d51",
   "metadata": {},
   "outputs": [],
   "source": [
    "df = df[df.groupby('game_name').game_id.transform(len)>=20]"
   ]
  },
  {
   "cell_type": "code",
   "execution_count": 24,
   "id": "8b2a4ab4",
   "metadata": {},
   "outputs": [
    {
     "data": {
      "text/plain": [
       "431"
      ]
     },
     "execution_count": 24,
     "metadata": {},
     "output_type": "execute_result"
    }
   ],
   "source": [
    "df['game_name'].nunique()"
   ]
  },
  {
   "cell_type": "code",
   "execution_count": 25,
   "id": "6acb3fd7",
   "metadata": {},
   "outputs": [],
   "source": [
    "df['game_id'] = df['game_id'].astype(str)"
   ]
  },
  {
   "cell_type": "code",
   "execution_count": 26,
   "id": "4ca78efd",
   "metadata": {},
   "outputs": [],
   "source": [
    "average = df.groupby(['game_name'],as_index = False).Hourplayed.mean()"
   ]
  },
  {
   "cell_type": "code",
   "execution_count": 27,
   "id": "07a70dd0",
   "metadata": {},
   "outputs": [],
   "source": [
    "average['avg_hourplayed'] = average['Hourplayed']\n",
    "average.drop(columns ='Hourplayed',inplace = True )"
   ]
  },
  {
   "cell_type": "code",
   "execution_count": 28,
   "id": "4f88fb97",
   "metadata": {},
   "outputs": [
    {
     "data": {
      "text/html": [
       "<div>\n",
       "<style scoped>\n",
       "    .dataframe tbody tr th:only-of-type {\n",
       "        vertical-align: middle;\n",
       "    }\n",
       "\n",
       "    .dataframe tbody tr th {\n",
       "        vertical-align: top;\n",
       "    }\n",
       "\n",
       "    .dataframe thead th {\n",
       "        text-align: right;\n",
       "    }\n",
       "</style>\n",
       "<table border=\"1\" class=\"dataframe\">\n",
       "  <thead>\n",
       "    <tr style=\"text-align: right;\">\n",
       "      <th></th>\n",
       "      <th>game_name</th>\n",
       "      <th>avg_hourplayed</th>\n",
       "    </tr>\n",
       "  </thead>\n",
       "  <tbody>\n",
       "    <tr>\n",
       "      <th>0</th>\n",
       "      <td>7 Days to Die</td>\n",
       "      <td>50.777500</td>\n",
       "    </tr>\n",
       "    <tr>\n",
       "      <th>1</th>\n",
       "      <td>APB Reloaded</td>\n",
       "      <td>113.377778</td>\n",
       "    </tr>\n",
       "    <tr>\n",
       "      <th>2</th>\n",
       "      <td>ARK Survival Evolved</td>\n",
       "      <td>105.982812</td>\n",
       "    </tr>\n",
       "    <tr>\n",
       "      <th>3</th>\n",
       "      <td>Ace of Spades</td>\n",
       "      <td>10.971739</td>\n",
       "    </tr>\n",
       "    <tr>\n",
       "      <th>4</th>\n",
       "      <td>AdVenture Capitalist</td>\n",
       "      <td>67.760674</td>\n",
       "    </tr>\n",
       "  </tbody>\n",
       "</table>\n",
       "</div>"
      ],
      "text/plain": [
       "              game_name  avg_hourplayed\n",
       "0         7 Days to Die       50.777500\n",
       "1          APB Reloaded      113.377778\n",
       "2  ARK Survival Evolved      105.982812\n",
       "3         Ace of Spades       10.971739\n",
       "4  AdVenture Capitalist       67.760674"
      ]
     },
     "execution_count": 28,
     "metadata": {},
     "output_type": "execute_result"
    }
   ],
   "source": [
    "average.head()"
   ]
  },
  {
   "cell_type": "code",
   "execution_count": 29,
   "id": "a13200bd",
   "metadata": {},
   "outputs": [],
   "source": [
    "df = df.merge(average,on = 'game_name')"
   ]
  },
  {
   "cell_type": "code",
   "execution_count": 30,
   "id": "216f9677",
   "metadata": {},
   "outputs": [],
   "source": [
    "condition = [\n",
    "    df['Hourplayed']>= (0.8*df['avg_hourplayed']),\n",
    "   (df['Hourplayed']>=0.6*df['avg_hourplayed'])&(df['Hourplayed']<0.8*df['avg_hourplayed']),\n",
    "   (df['Hourplayed']>=0.4*df['avg_hourplayed'])&(df['Hourplayed']<0.6*df['avg_hourplayed']),\n",
    "   (df['Hourplayed']>=0.2*df['avg_hourplayed'])&(df['Hourplayed']<0.4*df['avg_hourplayed']),\n",
    "    df['Hourplayed']>=0\n",
    "    \n",
    "]\n",
    "values = [5,4,3,2,1]\n",
    "df['rating'] = np.select(condition,values)\n"
   ]
  },
  {
   "cell_type": "code",
   "execution_count": 31,
   "id": "af850569",
   "metadata": {},
   "outputs": [
    {
     "data": {
      "text/html": [
       "<div>\n",
       "<style scoped>\n",
       "    .dataframe tbody tr th:only-of-type {\n",
       "        vertical-align: middle;\n",
       "    }\n",
       "\n",
       "    .dataframe tbody tr th {\n",
       "        vertical-align: top;\n",
       "    }\n",
       "\n",
       "    .dataframe thead th {\n",
       "        text-align: right;\n",
       "    }\n",
       "</style>\n",
       "<table border=\"1\" class=\"dataframe\">\n",
       "  <thead>\n",
       "    <tr style=\"text-align: right;\">\n",
       "      <th></th>\n",
       "      <th>game_id</th>\n",
       "      <th>game_name</th>\n",
       "      <th>status</th>\n",
       "      <th>Hourplayed</th>\n",
       "      <th>avg_hourplayed</th>\n",
       "      <th>rating</th>\n",
       "    </tr>\n",
       "  </thead>\n",
       "  <tbody>\n",
       "    <tr>\n",
       "      <th>0</th>\n",
       "      <td>151603712</td>\n",
       "      <td>The Elder Scrolls V Skyrim</td>\n",
       "      <td>play</td>\n",
       "      <td>273.0</td>\n",
       "      <td>115.351792</td>\n",
       "      <td>5</td>\n",
       "    </tr>\n",
       "    <tr>\n",
       "      <th>1</th>\n",
       "      <td>59945701</td>\n",
       "      <td>The Elder Scrolls V Skyrim</td>\n",
       "      <td>play</td>\n",
       "      <td>58.0</td>\n",
       "      <td>115.351792</td>\n",
       "      <td>3</td>\n",
       "    </tr>\n",
       "    <tr>\n",
       "      <th>2</th>\n",
       "      <td>92107940</td>\n",
       "      <td>The Elder Scrolls V Skyrim</td>\n",
       "      <td>play</td>\n",
       "      <td>110.0</td>\n",
       "      <td>115.351792</td>\n",
       "      <td>5</td>\n",
       "    </tr>\n",
       "    <tr>\n",
       "      <th>3</th>\n",
       "      <td>250006052</td>\n",
       "      <td>The Elder Scrolls V Skyrim</td>\n",
       "      <td>play</td>\n",
       "      <td>465.0</td>\n",
       "      <td>115.351792</td>\n",
       "      <td>5</td>\n",
       "    </tr>\n",
       "    <tr>\n",
       "      <th>4</th>\n",
       "      <td>11373749</td>\n",
       "      <td>The Elder Scrolls V Skyrim</td>\n",
       "      <td>play</td>\n",
       "      <td>220.0</td>\n",
       "      <td>115.351792</td>\n",
       "      <td>5</td>\n",
       "    </tr>\n",
       "  </tbody>\n",
       "</table>\n",
       "</div>"
      ],
      "text/plain": [
       "     game_id                   game_name status  Hourplayed  avg_hourplayed  \\\n",
       "0  151603712  The Elder Scrolls V Skyrim   play       273.0      115.351792   \n",
       "1   59945701  The Elder Scrolls V Skyrim   play        58.0      115.351792   \n",
       "2   92107940  The Elder Scrolls V Skyrim   play       110.0      115.351792   \n",
       "3  250006052  The Elder Scrolls V Skyrim   play       465.0      115.351792   \n",
       "4   11373749  The Elder Scrolls V Skyrim   play       220.0      115.351792   \n",
       "\n",
       "   rating  \n",
       "0       5  \n",
       "1       3  \n",
       "2       5  \n",
       "3       5  \n",
       "4       5  "
      ]
     },
     "execution_count": 31,
     "metadata": {},
     "output_type": "execute_result"
    }
   ],
   "source": [
    "df.head()"
   ]
  },
  {
   "cell_type": "code",
   "execution_count": 32,
   "id": "9062673c",
   "metadata": {},
   "outputs": [
    {
     "data": {
      "text/plain": [
       "Index(['game_id', 'game_name', 'status', 'Hourplayed', 'avg_hourplayed',\n",
       "       'rating'],\n",
       "      dtype='object')"
      ]
     },
     "execution_count": 32,
     "metadata": {},
     "output_type": "execute_result"
    }
   ],
   "source": [
    "df.columns"
   ]
  },
  {
   "cell_type": "code",
   "execution_count": 33,
   "id": "efe84a4b",
   "metadata": {},
   "outputs": [],
   "source": [
    "# keeping all important columns (game_id,game_name,rating ) and drop all other columns\n",
    "df.drop(columns = [ 'status', 'Hourplayed', 'avg_hourplayed'],inplace =True )"
   ]
  },
  {
   "cell_type": "code",
   "execution_count": 34,
   "id": "b3a82ade",
   "metadata": {
    "scrolled": true
   },
   "outputs": [
    {
     "data": {
      "text/html": [
       "<div>\n",
       "<style scoped>\n",
       "    .dataframe tbody tr th:only-of-type {\n",
       "        vertical-align: middle;\n",
       "    }\n",
       "\n",
       "    .dataframe tbody tr th {\n",
       "        vertical-align: top;\n",
       "    }\n",
       "\n",
       "    .dataframe thead th {\n",
       "        text-align: right;\n",
       "    }\n",
       "</style>\n",
       "<table border=\"1\" class=\"dataframe\">\n",
       "  <thead>\n",
       "    <tr style=\"text-align: right;\">\n",
       "      <th></th>\n",
       "      <th>game_id</th>\n",
       "      <th>game_name</th>\n",
       "      <th>rating</th>\n",
       "    </tr>\n",
       "  </thead>\n",
       "  <tbody>\n",
       "    <tr>\n",
       "      <th>0</th>\n",
       "      <td>151603712</td>\n",
       "      <td>The Elder Scrolls V Skyrim</td>\n",
       "      <td>5</td>\n",
       "    </tr>\n",
       "    <tr>\n",
       "      <th>1</th>\n",
       "      <td>59945701</td>\n",
       "      <td>The Elder Scrolls V Skyrim</td>\n",
       "      <td>3</td>\n",
       "    </tr>\n",
       "    <tr>\n",
       "      <th>2</th>\n",
       "      <td>92107940</td>\n",
       "      <td>The Elder Scrolls V Skyrim</td>\n",
       "      <td>5</td>\n",
       "    </tr>\n",
       "    <tr>\n",
       "      <th>3</th>\n",
       "      <td>250006052</td>\n",
       "      <td>The Elder Scrolls V Skyrim</td>\n",
       "      <td>5</td>\n",
       "    </tr>\n",
       "    <tr>\n",
       "      <th>4</th>\n",
       "      <td>11373749</td>\n",
       "      <td>The Elder Scrolls V Skyrim</td>\n",
       "      <td>5</td>\n",
       "    </tr>\n",
       "  </tbody>\n",
       "</table>\n",
       "</div>"
      ],
      "text/plain": [
       "     game_id                   game_name  rating\n",
       "0  151603712  The Elder Scrolls V Skyrim       5\n",
       "1   59945701  The Elder Scrolls V Skyrim       3\n",
       "2   92107940  The Elder Scrolls V Skyrim       5\n",
       "3  250006052  The Elder Scrolls V Skyrim       5\n",
       "4   11373749  The Elder Scrolls V Skyrim       5"
      ]
     },
     "execution_count": 34,
     "metadata": {},
     "output_type": "execute_result"
    }
   ],
   "source": [
    "df.head()"
   ]
  },
  {
   "cell_type": "markdown",
   "id": "954a8c93",
   "metadata": {},
   "source": [
    "# Memory based Collaborative Filtering"
   ]
  },
  {
   "attachments": {
    "image.png": {
     "image/png": "[encoded data removed]"
    }
   },
   "cell_type": "markdown",
   "id": "35a772ee",
   "metadata": {},
   "source": [
    "![image.png](attachment:image.png)"
   ]
  },
  {
   "cell_type": "code",
   "execution_count": 35,
   "id": "2168f142",
   "metadata": {},
   "outputs": [],
   "source": [
    "# importing pairwise_distance , cosine ,correlation\n",
    "from sklearn.metrics.pairwise import pairwise_distances,cosine_similarity\n",
    "from scipy.spatial.distance import cosine,correlation"
   ]
  },
  {
   "cell_type": "code",
   "execution_count": 36,
   "id": "7cab9be4",
   "metadata": {},
   "outputs": [],
   "source": [
    "pv = df.pivot_table(index=['game_id'],columns=['game_name'],values = 'rating')"
   ]
  },
  {
   "cell_type": "code",
   "execution_count": 37,
   "id": "4c9815ea",
   "metadata": {},
   "outputs": [],
   "source": [
    "pv = pv.apply(lambda x: (x-np.mean(x))/(np.max(x)-np.min(x)),axis=1)"
   ]
  },
  {
   "cell_type": "code",
   "execution_count": 38,
   "id": "b05c02b0",
   "metadata": {},
   "outputs": [],
   "source": [
    "pv = pv.fillna(0)\n",
    "pv = pv.T\n",
    "pv = pv.loc[:,(pv != 0).any(axis=0)]"
   ]
  },
  {
   "cell_type": "code",
   "execution_count": 39,
   "id": "1be5fd79",
   "metadata": {},
   "outputs": [
    {
     "data": {
      "text/html": [
       "<div>\n",
       "<style scoped>\n",
       "    .dataframe tbody tr th:only-of-type {\n",
       "        vertical-align: middle;\n",
       "    }\n",
       "\n",
       "    .dataframe tbody tr th {\n",
       "        vertical-align: top;\n",
       "    }\n",
       "\n",
       "    .dataframe thead th {\n",
       "        text-align: right;\n",
       "    }\n",
       "</style>\n",
       "<table border=\"1\" class=\"dataframe\">\n",
       "  <thead>\n",
       "    <tr style=\"text-align: right;\">\n",
       "      <th>game_id</th>\n",
       "      <th>100057229</th>\n",
       "      <th>100096071</th>\n",
       "      <th>100311267</th>\n",
       "      <th>100322840</th>\n",
       "      <th>100351493</th>\n",
       "      <th>100359523</th>\n",
       "      <th>100431715</th>\n",
       "      <th>100444456</th>\n",
       "      <th>100519466</th>\n",
       "      <th>100630947</th>\n",
       "      <th>...</th>\n",
       "      <th>994489</th>\n",
       "      <th>9946133</th>\n",
       "      <th>99484728</th>\n",
       "      <th>99640715</th>\n",
       "      <th>99704390</th>\n",
       "      <th>99711581</th>\n",
       "      <th>99713453</th>\n",
       "      <th>99723205</th>\n",
       "      <th>99766416</th>\n",
       "      <th>99802512</th>\n",
       "    </tr>\n",
       "    <tr>\n",
       "      <th>game_name</th>\n",
       "      <th></th>\n",
       "      <th></th>\n",
       "      <th></th>\n",
       "      <th></th>\n",
       "      <th></th>\n",
       "      <th></th>\n",
       "      <th></th>\n",
       "      <th></th>\n",
       "      <th></th>\n",
       "      <th></th>\n",
       "      <th></th>\n",
       "      <th></th>\n",
       "      <th></th>\n",
       "      <th></th>\n",
       "      <th></th>\n",
       "      <th></th>\n",
       "      <th></th>\n",
       "      <th></th>\n",
       "      <th></th>\n",
       "      <th></th>\n",
       "      <th></th>\n",
       "    </tr>\n",
       "  </thead>\n",
       "  <tbody>\n",
       "    <tr>\n",
       "      <th>7 Days to Die</th>\n",
       "      <td>0.0</td>\n",
       "      <td>0.0</td>\n",
       "      <td>0.0</td>\n",
       "      <td>0.0</td>\n",
       "      <td>0.0</td>\n",
       "      <td>0.0</td>\n",
       "      <td>0.0</td>\n",
       "      <td>0.0</td>\n",
       "      <td>0.00</td>\n",
       "      <td>0.0</td>\n",
       "      <td>...</td>\n",
       "      <td>0.0</td>\n",
       "      <td>0.0</td>\n",
       "      <td>0.0</td>\n",
       "      <td>0.0</td>\n",
       "      <td>0.000</td>\n",
       "      <td>0.000000</td>\n",
       "      <td>0.0</td>\n",
       "      <td>0.0</td>\n",
       "      <td>0.0</td>\n",
       "      <td>0.0</td>\n",
       "    </tr>\n",
       "    <tr>\n",
       "      <th>APB Reloaded</th>\n",
       "      <td>0.0</td>\n",
       "      <td>0.0</td>\n",
       "      <td>0.0</td>\n",
       "      <td>0.0</td>\n",
       "      <td>0.0</td>\n",
       "      <td>0.0</td>\n",
       "      <td>0.0</td>\n",
       "      <td>0.0</td>\n",
       "      <td>0.00</td>\n",
       "      <td>0.0</td>\n",
       "      <td>...</td>\n",
       "      <td>0.0</td>\n",
       "      <td>0.0</td>\n",
       "      <td>0.0</td>\n",
       "      <td>0.0</td>\n",
       "      <td>-0.475</td>\n",
       "      <td>-0.166667</td>\n",
       "      <td>0.0</td>\n",
       "      <td>0.0</td>\n",
       "      <td>0.0</td>\n",
       "      <td>0.0</td>\n",
       "    </tr>\n",
       "    <tr>\n",
       "      <th>ARK Survival Evolved</th>\n",
       "      <td>0.0</td>\n",
       "      <td>0.0</td>\n",
       "      <td>0.0</td>\n",
       "      <td>0.0</td>\n",
       "      <td>0.0</td>\n",
       "      <td>0.0</td>\n",
       "      <td>0.0</td>\n",
       "      <td>0.0</td>\n",
       "      <td>0.43</td>\n",
       "      <td>0.0</td>\n",
       "      <td>...</td>\n",
       "      <td>0.0</td>\n",
       "      <td>0.0</td>\n",
       "      <td>0.0</td>\n",
       "      <td>0.0</td>\n",
       "      <td>0.000</td>\n",
       "      <td>0.000000</td>\n",
       "      <td>0.0</td>\n",
       "      <td>0.0</td>\n",
       "      <td>0.0</td>\n",
       "      <td>0.0</td>\n",
       "    </tr>\n",
       "    <tr>\n",
       "      <th>Ace of Spades</th>\n",
       "      <td>0.0</td>\n",
       "      <td>0.0</td>\n",
       "      <td>0.0</td>\n",
       "      <td>0.0</td>\n",
       "      <td>0.0</td>\n",
       "      <td>0.0</td>\n",
       "      <td>0.0</td>\n",
       "      <td>0.0</td>\n",
       "      <td>0.00</td>\n",
       "      <td>0.0</td>\n",
       "      <td>...</td>\n",
       "      <td>0.0</td>\n",
       "      <td>0.0</td>\n",
       "      <td>0.0</td>\n",
       "      <td>0.0</td>\n",
       "      <td>0.000</td>\n",
       "      <td>0.000000</td>\n",
       "      <td>0.0</td>\n",
       "      <td>0.0</td>\n",
       "      <td>0.0</td>\n",
       "      <td>0.0</td>\n",
       "    </tr>\n",
       "    <tr>\n",
       "      <th>AdVenture Capitalist</th>\n",
       "      <td>0.0</td>\n",
       "      <td>0.0</td>\n",
       "      <td>0.0</td>\n",
       "      <td>0.0</td>\n",
       "      <td>0.0</td>\n",
       "      <td>0.0</td>\n",
       "      <td>0.0</td>\n",
       "      <td>0.0</td>\n",
       "      <td>0.00</td>\n",
       "      <td>0.0</td>\n",
       "      <td>...</td>\n",
       "      <td>0.0</td>\n",
       "      <td>0.0</td>\n",
       "      <td>0.0</td>\n",
       "      <td>0.0</td>\n",
       "      <td>0.000</td>\n",
       "      <td>0.000000</td>\n",
       "      <td>0.0</td>\n",
       "      <td>0.0</td>\n",
       "      <td>0.0</td>\n",
       "      <td>0.0</td>\n",
       "    </tr>\n",
       "  </tbody>\n",
       "</table>\n",
       "<p>5 rows × 3059 columns</p>\n",
       "</div>"
      ],
      "text/plain": [
       "game_id               100057229  100096071  100311267  100322840  100351493  \\\n",
       "game_name                                                                     \n",
       "7 Days to Die               0.0        0.0        0.0        0.0        0.0   \n",
       "APB Reloaded                0.0        0.0        0.0        0.0        0.0   \n",
       "ARK Survival Evolved        0.0        0.0        0.0        0.0        0.0   \n",
       "Ace of Spades               0.0        0.0        0.0        0.0        0.0   \n",
       "AdVenture Capitalist        0.0        0.0        0.0        0.0        0.0   \n",
       "\n",
       "game_id               100359523  100431715  100444456  100519466  100630947  \\\n",
       "game_name                                                                     \n",
       "7 Days to Die               0.0        0.0        0.0       0.00        0.0   \n",
       "APB Reloaded                0.0        0.0        0.0       0.00        0.0   \n",
       "ARK Survival Evolved        0.0        0.0        0.0       0.43        0.0   \n",
       "Ace of Spades               0.0        0.0        0.0       0.00        0.0   \n",
       "AdVenture Capitalist        0.0        0.0        0.0       0.00        0.0   \n",
       "\n",
       "game_id               ...  994489  9946133  99484728  99640715  99704390  \\\n",
       "game_name             ...                                                  \n",
       "7 Days to Die         ...     0.0      0.0       0.0       0.0     0.000   \n",
       "APB Reloaded          ...     0.0      0.0       0.0       0.0    -0.475   \n",
       "ARK Survival Evolved  ...     0.0      0.0       0.0       0.0     0.000   \n",
       "Ace of Spades         ...     0.0      0.0       0.0       0.0     0.000   \n",
       "AdVenture Capitalist  ...     0.0      0.0       0.0       0.0     0.000   \n",
       "\n",
       "game_id               99711581  99713453  99723205  99766416  99802512  \n",
       "game_name                                                               \n",
       "7 Days to Die         0.000000       0.0       0.0       0.0       0.0  \n",
       "APB Reloaded         -0.166667       0.0       0.0       0.0       0.0  \n",
       "ARK Survival Evolved  0.000000       0.0       0.0       0.0       0.0  \n",
       "Ace of Spades         0.000000       0.0       0.0       0.0       0.0  \n",
       "AdVenture Capitalist  0.000000       0.0       0.0       0.0       0.0  \n",
       "\n",
       "[5 rows x 3059 columns]"
      ]
     },
     "execution_count": 39,
     "metadata": {},
     "output_type": "execute_result"
    }
   ],
   "source": [
    "pv.head()\n"
   ]
  },
  {
   "cell_type": "code",
   "execution_count": 40,
   "id": "b9fbc9f6",
   "metadata": {},
   "outputs": [],
   "source": [
    "import scipy as sp\n",
    "import operator\n"
   ]
  },
  {
   "cell_type": "code",
   "execution_count": 41,
   "id": "f960d34a",
   "metadata": {},
   "outputs": [],
   "source": [
    "# converting data into sparse matrix format \n",
    "pv_sparse = sp.sparse.csr_matrix(pv.values)"
   ]
  },
  {
   "cell_type": "code",
   "execution_count": 42,
   "id": "d4097861",
   "metadata": {},
   "outputs": [],
   "source": [
    "\n",
    "item_simi = cosine_similarity(pv_sparse)\n",
    "user_simi = cosine_similarity(pv_sparse.T)"
   ]
  },
  {
   "cell_type": "code",
   "execution_count": 43,
   "id": "97e0cdb9",
   "metadata": {},
   "outputs": [],
   "source": [
    "## inserting similarity matrix into a dataframe object\n",
    "# item similarity dataframe:\n",
    "df_item = pd.DataFrame(item_simi,index = pv.index ,columns = pv.index)\n",
    "# User_similarity dataframe\n",
    "df_user = pd.DataFrame(user_simi , index= pv.columns,columns=pv.columns)"
   ]
  },
  {
   "cell_type": "code",
   "execution_count": 44,
   "id": "105b364f",
   "metadata": {
    "scrolled": false
   },
   "outputs": [
    {
     "data": {
      "text/html": [
       "<div>\n",
       "<style scoped>\n",
       "    .dataframe tbody tr th:only-of-type {\n",
       "        vertical-align: middle;\n",
       "    }\n",
       "\n",
       "    .dataframe tbody tr th {\n",
       "        vertical-align: top;\n",
       "    }\n",
       "\n",
       "    .dataframe thead th {\n",
       "        text-align: right;\n",
       "    }\n",
       "</style>\n",
       "<table border=\"1\" class=\"dataframe\">\n",
       "  <thead>\n",
       "    <tr style=\"text-align: right;\">\n",
       "      <th>game_name</th>\n",
       "      <th>7 Days to Die</th>\n",
       "      <th>APB Reloaded</th>\n",
       "      <th>ARK Survival Evolved</th>\n",
       "      <th>Ace of Spades</th>\n",
       "      <th>AdVenture Capitalist</th>\n",
       "      <th>Aftermath</th>\n",
       "      <th>Age of Chivalry</th>\n",
       "      <th>Age of Empires II HD Edition</th>\n",
       "      <th>Age of Empires III Complete Collection</th>\n",
       "      <th>Age of Mythology Extended Edition</th>\n",
       "      <th>...</th>\n",
       "      <th>Warhammer 40,000 Dawn of War II - Chaos Rising</th>\n",
       "      <th>Warhammer 40,000 Space Marine</th>\n",
       "      <th>Wasteland 2</th>\n",
       "      <th>Watch_Dogs</th>\n",
       "      <th>Wolfenstein The New Order</th>\n",
       "      <th>Worms Reloaded</th>\n",
       "      <th>Worms Revolution</th>\n",
       "      <th>XCOM Enemy Unknown</th>\n",
       "      <th>Zombie Panic Source</th>\n",
       "      <th>theHunter</th>\n",
       "    </tr>\n",
       "    <tr>\n",
       "      <th>game_name</th>\n",
       "      <th></th>\n",
       "      <th></th>\n",
       "      <th></th>\n",
       "      <th></th>\n",
       "      <th></th>\n",
       "      <th></th>\n",
       "      <th></th>\n",
       "      <th></th>\n",
       "      <th></th>\n",
       "      <th></th>\n",
       "      <th></th>\n",
       "      <th></th>\n",
       "      <th></th>\n",
       "      <th></th>\n",
       "      <th></th>\n",
       "      <th></th>\n",
       "      <th></th>\n",
       "      <th></th>\n",
       "      <th></th>\n",
       "      <th></th>\n",
       "      <th></th>\n",
       "    </tr>\n",
       "  </thead>\n",
       "  <tbody>\n",
       "    <tr>\n",
       "      <th>7 Days to Die</th>\n",
       "      <td>1.000000</td>\n",
       "      <td>0.011889</td>\n",
       "      <td>0.023910</td>\n",
       "      <td>0.003702</td>\n",
       "      <td>-0.006406</td>\n",
       "      <td>-0.036463</td>\n",
       "      <td>0.047295</td>\n",
       "      <td>0.049644</td>\n",
       "      <td>-0.003137</td>\n",
       "      <td>0.000000</td>\n",
       "      <td>...</td>\n",
       "      <td>-0.038894</td>\n",
       "      <td>0.017805</td>\n",
       "      <td>-0.027081</td>\n",
       "      <td>0.011157</td>\n",
       "      <td>0.028949</td>\n",
       "      <td>0.049210</td>\n",
       "      <td>-0.028614</td>\n",
       "      <td>0.063191</td>\n",
       "      <td>0.061200</td>\n",
       "      <td>-0.034545</td>\n",
       "    </tr>\n",
       "    <tr>\n",
       "      <th>APB Reloaded</th>\n",
       "      <td>0.011889</td>\n",
       "      <td>1.000000</td>\n",
       "      <td>-0.046199</td>\n",
       "      <td>-0.012738</td>\n",
       "      <td>-0.030157</td>\n",
       "      <td>-0.005157</td>\n",
       "      <td>-0.000540</td>\n",
       "      <td>-0.013881</td>\n",
       "      <td>-0.008468</td>\n",
       "      <td>0.004806</td>\n",
       "      <td>...</td>\n",
       "      <td>0.000280</td>\n",
       "      <td>0.027197</td>\n",
       "      <td>0.000000</td>\n",
       "      <td>0.000000</td>\n",
       "      <td>0.010149</td>\n",
       "      <td>-0.038028</td>\n",
       "      <td>-0.007166</td>\n",
       "      <td>-0.008280</td>\n",
       "      <td>0.024256</td>\n",
       "      <td>-0.051036</td>\n",
       "    </tr>\n",
       "    <tr>\n",
       "      <th>ARK Survival Evolved</th>\n",
       "      <td>0.023910</td>\n",
       "      <td>-0.046199</td>\n",
       "      <td>1.000000</td>\n",
       "      <td>-0.006097</td>\n",
       "      <td>-0.006445</td>\n",
       "      <td>0.000000</td>\n",
       "      <td>0.023592</td>\n",
       "      <td>0.008420</td>\n",
       "      <td>-0.020514</td>\n",
       "      <td>-0.009609</td>\n",
       "      <td>...</td>\n",
       "      <td>-0.031033</td>\n",
       "      <td>0.000214</td>\n",
       "      <td>-0.014996</td>\n",
       "      <td>0.022721</td>\n",
       "      <td>0.000000</td>\n",
       "      <td>-0.023283</td>\n",
       "      <td>0.000231</td>\n",
       "      <td>0.001994</td>\n",
       "      <td>0.028022</td>\n",
       "      <td>-0.015766</td>\n",
       "    </tr>\n",
       "    <tr>\n",
       "      <th>Ace of Spades</th>\n",
       "      <td>0.003702</td>\n",
       "      <td>-0.012738</td>\n",
       "      <td>-0.006097</td>\n",
       "      <td>1.000000</td>\n",
       "      <td>-0.003154</td>\n",
       "      <td>0.000000</td>\n",
       "      <td>-0.034444</td>\n",
       "      <td>-0.006776</td>\n",
       "      <td>0.000000</td>\n",
       "      <td>0.000000</td>\n",
       "      <td>...</td>\n",
       "      <td>0.000858</td>\n",
       "      <td>-0.022283</td>\n",
       "      <td>0.000000</td>\n",
       "      <td>0.000000</td>\n",
       "      <td>0.000000</td>\n",
       "      <td>0.050384</td>\n",
       "      <td>0.053498</td>\n",
       "      <td>0.009763</td>\n",
       "      <td>-0.022023</td>\n",
       "      <td>-0.029286</td>\n",
       "    </tr>\n",
       "    <tr>\n",
       "      <th>AdVenture Capitalist</th>\n",
       "      <td>-0.006406</td>\n",
       "      <td>-0.030157</td>\n",
       "      <td>-0.006445</td>\n",
       "      <td>-0.003154</td>\n",
       "      <td>1.000000</td>\n",
       "      <td>-0.043081</td>\n",
       "      <td>0.035806</td>\n",
       "      <td>-0.029016</td>\n",
       "      <td>-0.002733</td>\n",
       "      <td>0.000000</td>\n",
       "      <td>...</td>\n",
       "      <td>0.019090</td>\n",
       "      <td>0.008819</td>\n",
       "      <td>0.000000</td>\n",
       "      <td>0.000000</td>\n",
       "      <td>-0.003790</td>\n",
       "      <td>0.000000</td>\n",
       "      <td>0.014821</td>\n",
       "      <td>-0.014461</td>\n",
       "      <td>0.000000</td>\n",
       "      <td>0.086266</td>\n",
       "    </tr>\n",
       "  </tbody>\n",
       "</table>\n",
       "<p>5 rows × 431 columns</p>\n",
       "</div>"
      ],
      "text/plain": [
       "game_name             7 Days to Die  APB Reloaded  ARK Survival Evolved  \\\n",
       "game_name                                                                 \n",
       "7 Days to Die              1.000000      0.011889              0.023910   \n",
       "APB Reloaded               0.011889      1.000000             -0.046199   \n",
       "ARK Survival Evolved       0.023910     -0.046199              1.000000   \n",
       "Ace of Spades              0.003702     -0.012738             -0.006097   \n",
       "AdVenture Capitalist      -0.006406     -0.030157             -0.006445   \n",
       "\n",
       "game_name             Ace of Spades  AdVenture Capitalist  Aftermath  \\\n",
       "game_name                                                              \n",
       "7 Days to Die              0.003702             -0.006406  -0.036463   \n",
       "APB Reloaded              -0.012738             -0.030157  -0.005157   \n",
       "ARK Survival Evolved      -0.006097             -0.006445   0.000000   \n",
       "Ace of Spades              1.000000             -0.003154   0.000000   \n",
       "AdVenture Capitalist      -0.003154              1.000000  -0.043081   \n",
       "\n",
       "game_name             Age of Chivalry  Age of Empires II HD Edition  \\\n",
       "game_name                                                             \n",
       "7 Days to Die                0.047295                      0.049644   \n",
       "APB Reloaded                -0.000540                     -0.013881   \n",
       "ARK Survival Evolved         0.023592                      0.008420   \n",
       "Ace of Spades               -0.034444                     -0.006776   \n",
       "AdVenture Capitalist         0.035806                     -0.029016   \n",
       "\n",
       "game_name             Age of Empires III Complete Collection  \\\n",
       "game_name                                                      \n",
       "7 Days to Die                                      -0.003137   \n",
       "APB Reloaded                                       -0.008468   \n",
       "ARK Survival Evolved                               -0.020514   \n",
       "Ace of Spades                                       0.000000   \n",
       "AdVenture Capitalist                               -0.002733   \n",
       "\n",
       "game_name             Age of Mythology Extended Edition  ...  \\\n",
       "game_name                                                ...   \n",
       "7 Days to Die                                  0.000000  ...   \n",
       "APB Reloaded                                   0.004806  ...   \n",
       "ARK Survival Evolved                          -0.009609  ...   \n",
       "Ace of Spades                                  0.000000  ...   \n",
       "AdVenture Capitalist                           0.000000  ...   \n",
       "\n",
       "game_name             Warhammer 40,000 Dawn of War II - Chaos Rising  \\\n",
       "game_name                                                              \n",
       "7 Days to Die                                              -0.038894   \n",
       "APB Reloaded                                                0.000280   \n",
       "ARK Survival Evolved                                       -0.031033   \n",
       "Ace of Spades                                               0.000858   \n",
       "AdVenture Capitalist                                        0.019090   \n",
       "\n",
       "game_name             Warhammer 40,000 Space Marine  Wasteland 2  Watch_Dogs  \\\n",
       "game_name                                                                      \n",
       "7 Days to Die                              0.017805    -0.027081    0.011157   \n",
       "APB Reloaded                               0.027197     0.000000    0.000000   \n",
       "ARK Survival Evolved                       0.000214    -0.014996    0.022721   \n",
       "Ace of Spades                             -0.022283     0.000000    0.000000   \n",
       "AdVenture Capitalist                       0.008819     0.000000    0.000000   \n",
       "\n",
       "game_name             Wolfenstein The New Order  Worms Reloaded  \\\n",
       "game_name                                                         \n",
       "7 Days to Die                          0.028949        0.049210   \n",
       "APB Reloaded                           0.010149       -0.038028   \n",
       "ARK Survival Evolved                   0.000000       -0.023283   \n",
       "Ace of Spades                          0.000000        0.050384   \n",
       "AdVenture Capitalist                  -0.003790        0.000000   \n",
       "\n",
       "game_name             Worms Revolution  XCOM Enemy Unknown  \\\n",
       "game_name                                                    \n",
       "7 Days to Die                -0.028614            0.063191   \n",
       "APB Reloaded                 -0.007166           -0.008280   \n",
       "ARK Survival Evolved          0.000231            0.001994   \n",
       "Ace of Spades                 0.053498            0.009763   \n",
       "AdVenture Capitalist          0.014821           -0.014461   \n",
       "\n",
       "game_name             Zombie Panic Source  theHunter  \n",
       "game_name                                             \n",
       "7 Days to Die                    0.061200  -0.034545  \n",
       "APB Reloaded                     0.024256  -0.051036  \n",
       "ARK Survival Evolved             0.028022  -0.015766  \n",
       "Ace of Spades                   -0.022023  -0.029286  \n",
       "AdVenture Capitalist             0.000000   0.086266  \n",
       "\n",
       "[5 rows x 431 columns]"
      ]
     },
     "execution_count": 44,
     "metadata": {},
     "output_type": "execute_result"
    }
   ],
   "source": [
    "df_item.head()"
   ]
  },
  {
   "cell_type": "code",
   "execution_count": 45,
   "id": "4019323a",
   "metadata": {},
   "outputs": [
    {
     "data": {
      "text/html": [
       "<div>\n",
       "<style scoped>\n",
       "    .dataframe tbody tr th:only-of-type {\n",
       "        vertical-align: middle;\n",
       "    }\n",
       "\n",
       "    .dataframe tbody tr th {\n",
       "        vertical-align: top;\n",
       "    }\n",
       "\n",
       "    .dataframe thead th {\n",
       "        text-align: right;\n",
       "    }\n",
       "</style>\n",
       "<table border=\"1\" class=\"dataframe\">\n",
       "  <thead>\n",
       "    <tr style=\"text-align: right;\">\n",
       "      <th>game_id</th>\n",
       "      <th>100057229</th>\n",
       "      <th>100096071</th>\n",
       "      <th>100311267</th>\n",
       "      <th>100322840</th>\n",
       "      <th>100351493</th>\n",
       "      <th>100359523</th>\n",
       "      <th>100431715</th>\n",
       "      <th>100444456</th>\n",
       "      <th>100519466</th>\n",
       "      <th>100630947</th>\n",
       "      <th>...</th>\n",
       "      <th>994489</th>\n",
       "      <th>9946133</th>\n",
       "      <th>99484728</th>\n",
       "      <th>99640715</th>\n",
       "      <th>99704390</th>\n",
       "      <th>99711581</th>\n",
       "      <th>99713453</th>\n",
       "      <th>99723205</th>\n",
       "      <th>99766416</th>\n",
       "      <th>99802512</th>\n",
       "    </tr>\n",
       "    <tr>\n",
       "      <th>game_id</th>\n",
       "      <th></th>\n",
       "      <th></th>\n",
       "      <th></th>\n",
       "      <th></th>\n",
       "      <th></th>\n",
       "      <th></th>\n",
       "      <th></th>\n",
       "      <th></th>\n",
       "      <th></th>\n",
       "      <th></th>\n",
       "      <th></th>\n",
       "      <th></th>\n",
       "      <th></th>\n",
       "      <th></th>\n",
       "      <th></th>\n",
       "      <th></th>\n",
       "      <th></th>\n",
       "      <th></th>\n",
       "      <th></th>\n",
       "      <th></th>\n",
       "      <th></th>\n",
       "    </tr>\n",
       "  </thead>\n",
       "  <tbody>\n",
       "    <tr>\n",
       "      <th>100057229</th>\n",
       "      <td>1.000000</td>\n",
       "      <td>-0.102897</td>\n",
       "      <td>0.000000</td>\n",
       "      <td>0.0</td>\n",
       "      <td>0.000000</td>\n",
       "      <td>0.0</td>\n",
       "      <td>0.000000</td>\n",
       "      <td>0.000000</td>\n",
       "      <td>0.112023</td>\n",
       "      <td>0.000000</td>\n",
       "      <td>...</td>\n",
       "      <td>0.000000</td>\n",
       "      <td>0.000000</td>\n",
       "      <td>0.000000</td>\n",
       "      <td>0.0</td>\n",
       "      <td>0.000000</td>\n",
       "      <td>-0.074536</td>\n",
       "      <td>0.000000</td>\n",
       "      <td>0.052849</td>\n",
       "      <td>0.000000</td>\n",
       "      <td>0.0</td>\n",
       "    </tr>\n",
       "    <tr>\n",
       "      <th>100096071</th>\n",
       "      <td>-0.102897</td>\n",
       "      <td>1.000000</td>\n",
       "      <td>0.049862</td>\n",
       "      <td>0.0</td>\n",
       "      <td>0.000000</td>\n",
       "      <td>0.0</td>\n",
       "      <td>0.067894</td>\n",
       "      <td>0.000000</td>\n",
       "      <td>-0.154673</td>\n",
       "      <td>-0.186033</td>\n",
       "      <td>...</td>\n",
       "      <td>0.303790</td>\n",
       "      <td>0.036035</td>\n",
       "      <td>0.000000</td>\n",
       "      <td>0.0</td>\n",
       "      <td>-0.150648</td>\n",
       "      <td>-0.046017</td>\n",
       "      <td>0.000000</td>\n",
       "      <td>0.013983</td>\n",
       "      <td>0.039199</td>\n",
       "      <td>0.0</td>\n",
       "    </tr>\n",
       "    <tr>\n",
       "      <th>100311267</th>\n",
       "      <td>0.000000</td>\n",
       "      <td>0.049862</td>\n",
       "      <td>1.000000</td>\n",
       "      <td>0.0</td>\n",
       "      <td>-0.004669</td>\n",
       "      <td>0.0</td>\n",
       "      <td>0.000000</td>\n",
       "      <td>-0.030655</td>\n",
       "      <td>0.178706</td>\n",
       "      <td>0.000000</td>\n",
       "      <td>...</td>\n",
       "      <td>-0.054711</td>\n",
       "      <td>0.280644</td>\n",
       "      <td>0.032827</td>\n",
       "      <td>0.0</td>\n",
       "      <td>-0.035141</td>\n",
       "      <td>0.645942</td>\n",
       "      <td>0.000000</td>\n",
       "      <td>-0.128874</td>\n",
       "      <td>0.000000</td>\n",
       "      <td>0.0</td>\n",
       "    </tr>\n",
       "    <tr>\n",
       "      <th>100322840</th>\n",
       "      <td>0.000000</td>\n",
       "      <td>0.000000</td>\n",
       "      <td>0.000000</td>\n",
       "      <td>1.0</td>\n",
       "      <td>0.000000</td>\n",
       "      <td>0.0</td>\n",
       "      <td>0.000000</td>\n",
       "      <td>0.000000</td>\n",
       "      <td>0.000000</td>\n",
       "      <td>0.000000</td>\n",
       "      <td>...</td>\n",
       "      <td>0.000000</td>\n",
       "      <td>0.000000</td>\n",
       "      <td>0.000000</td>\n",
       "      <td>0.0</td>\n",
       "      <td>0.259037</td>\n",
       "      <td>0.000000</td>\n",
       "      <td>0.204124</td>\n",
       "      <td>0.000000</td>\n",
       "      <td>0.000000</td>\n",
       "      <td>0.0</td>\n",
       "    </tr>\n",
       "    <tr>\n",
       "      <th>100351493</th>\n",
       "      <td>0.000000</td>\n",
       "      <td>0.000000</td>\n",
       "      <td>-0.004669</td>\n",
       "      <td>0.0</td>\n",
       "      <td>1.000000</td>\n",
       "      <td>0.0</td>\n",
       "      <td>0.172433</td>\n",
       "      <td>0.000000</td>\n",
       "      <td>0.000000</td>\n",
       "      <td>0.000000</td>\n",
       "      <td>...</td>\n",
       "      <td>0.000000</td>\n",
       "      <td>0.000000</td>\n",
       "      <td>0.000000</td>\n",
       "      <td>0.0</td>\n",
       "      <td>0.000000</td>\n",
       "      <td>0.000000</td>\n",
       "      <td>0.000000</td>\n",
       "      <td>0.000000</td>\n",
       "      <td>0.000000</td>\n",
       "      <td>0.0</td>\n",
       "    </tr>\n",
       "  </tbody>\n",
       "</table>\n",
       "<p>5 rows × 3059 columns</p>\n",
       "</div>"
      ],
      "text/plain": [
       "game_id    100057229  100096071  100311267  100322840  100351493  100359523  \\\n",
       "game_id                                                                       \n",
       "100057229   1.000000  -0.102897   0.000000        0.0   0.000000        0.0   \n",
       "100096071  -0.102897   1.000000   0.049862        0.0   0.000000        0.0   \n",
       "100311267   0.000000   0.049862   1.000000        0.0  -0.004669        0.0   \n",
       "100322840   0.000000   0.000000   0.000000        1.0   0.000000        0.0   \n",
       "100351493   0.000000   0.000000  -0.004669        0.0   1.000000        0.0   \n",
       "\n",
       "game_id    100431715  100444456  100519466  100630947  ...    994489  \\\n",
       "game_id                                                ...             \n",
       "100057229   0.000000   0.000000   0.112023   0.000000  ...  0.000000   \n",
       "100096071   0.067894   0.000000  -0.154673  -0.186033  ...  0.303790   \n",
       "100311267   0.000000  -0.030655   0.178706   0.000000  ... -0.054711   \n",
       "100322840   0.000000   0.000000   0.000000   0.000000  ...  0.000000   \n",
       "100351493   0.172433   0.000000   0.000000   0.000000  ...  0.000000   \n",
       "\n",
       "game_id     9946133  99484728  99640715  99704390  99711581  99713453  \\\n",
       "game_id                                                                 \n",
       "100057229  0.000000  0.000000       0.0  0.000000 -0.074536  0.000000   \n",
       "100096071  0.036035  0.000000       0.0 -0.150648 -0.046017  0.000000   \n",
       "100311267  0.280644  0.032827       0.0 -0.035141  0.645942  0.000000   \n",
       "100322840  0.000000  0.000000       0.0  0.259037  0.000000  0.204124   \n",
       "100351493  0.000000  0.000000       0.0  0.000000  0.000000  0.000000   \n",
       "\n",
       "game_id    99723205  99766416  99802512  \n",
       "game_id                                  \n",
       "100057229  0.052849  0.000000       0.0  \n",
       "100096071  0.013983  0.039199       0.0  \n",
       "100311267 -0.128874  0.000000       0.0  \n",
       "100322840  0.000000  0.000000       0.0  \n",
       "100351493  0.000000  0.000000       0.0  \n",
       "\n",
       "[5 rows x 3059 columns]"
      ]
     },
     "execution_count": 45,
     "metadata": {},
     "output_type": "execute_result"
    }
   ],
   "source": [
    "df_user.head()"
   ]
  },
  {
   "cell_type": "code",
   "execution_count": 46,
   "id": "6985abd8",
   "metadata": {},
   "outputs": [],
   "source": [
    "# Write a function which will gives the top 5 games having highest cosine similarity \n",
    "def top_games(game):\n",
    "    count = 1\n",
    "    print('similar game to {} include \\n'.format(game))\n",
    "    for item in df_item .sort_values(ascending=False,by = game).index[1:6]:\n",
    "        print('NO.{} = {}'.format(count,item))\n",
    "        count+=1"
   ]
  },
  {
   "cell_type": "code",
   "execution_count": 77,
   "id": "6c878562",
   "metadata": {},
   "outputs": [
    {
     "name": "stdout",
     "output_type": "stream",
     "text": [
      "similar game to Counter-Strike Global Offensive include \n",
      "\n",
      "NO.1 = Hammerwatch\n",
      "NO.2 = Orcs Must Die! 2\n",
      "NO.3 = HAWKEN\n",
      "NO.4 = Resident Evil 5 / Biohazard 5\n",
      "NO.5 = Rust\n"
     ]
    }
   ],
   "source": [
    "top_games('Counter-Strike Global Offensive')"
   ]
  },
  {
   "cell_type": "code",
   "execution_count": 48,
   "id": "3f84ef55",
   "metadata": {},
   "outputs": [
    {
     "data": {
      "text/plain": [
       "Index(['100057229', '100096071', '100311267', '100322840', '100351493',\n",
       "       '100359523', '100431715', '100444456', '100519466', '100630947',\n",
       "       ...\n",
       "       '994489', '9946133', '99484728', '99640715', '99704390', '99711581',\n",
       "       '99713453', '99723205', '99766416', '99802512'],\n",
       "      dtype='object', name='game_id', length=3059)"
      ]
     },
     "execution_count": 48,
     "metadata": {},
     "output_type": "execute_result"
    }
   ],
   "source": [
    "# checking the columns :\n",
    "pv.columns"
   ]
  },
  {
   "cell_type": "code",
   "execution_count": 49,
   "id": "67495565",
   "metadata": {},
   "outputs": [],
   "source": [
    "# function which will gives the user having similar values:\n",
    "def user_id(user):\n",
    "    if user not in pv.columns:\n",
    "        print('No data available for this user {}'.format(user))\n",
    "    sim_val = df_user.sort_values(by =user,ascending=False).loc[:,user].tolist()[1:6]\n",
    "    sim_user = df_user.sort_values(by = user,ascending=False).index[1:6]\n",
    "    zipped = zip(sim_user,sim_val)\n",
    "    for user, sim in zipped:\n",
    "        print('user #{0},similarity values :{1:.2f}'.format(user,sim))"
   ]
  },
  {
   "cell_type": "code",
   "execution_count": 50,
   "id": "f0dc3699",
   "metadata": {},
   "outputs": [
    {
     "name": "stdout",
     "output_type": "stream",
     "text": [
      "user #40289887,similarity values :0.73\n",
      "user #185494712,similarity values :0.71\n",
      "user #16710264,similarity values :0.71\n",
      "user #20566124,similarity values :0.67\n",
      "user #49769103,similarity values :0.67\n"
     ]
    }
   ],
   "source": [
    "user_id('99484728')"
   ]
  },
  {
   "cell_type": "code",
   "execution_count": 51,
   "id": "2ac65da6",
   "metadata": {},
   "outputs": [],
   "source": [
    "# write a function which will construct a list of list containing the highest rated games per similar user:\n",
    "# return the name of the game along with along with frequency it appears in the list:\n",
    "def simi_user_recs(user):\n",
    "    if user not in pv.columns:\n",
    "        print('No data available for this user {}'.format(user))\n",
    "    sim_user = df_user.sort_values(by = user,ascending=False).index[1:11]\n",
    "    best = []\n",
    "    most_common = {}\n",
    "    for i in sim_user:\n",
    "        max_scorce = pv.loc[:,i].max()\n",
    "        best.append(pv[pv.loc[:,i] == max_scorce].index.tolist())\n",
    "    for i in range(len(best)):\n",
    "        for j in best[i]:\n",
    "                   if j in most_common:\n",
    "                       most_common[j] =+1\n",
    "                   else :\n",
    "                       most_common[j] =1\n",
    "    sorted_item = sorted(most_common.items(),key=operator.itemgetter(1),reverse=True)\n",
    "    return sorted_item[:6]"
   ]
  },
  {
   "cell_type": "code",
   "execution_count": 52,
   "id": "a61861d9",
   "metadata": {},
   "outputs": [
    {
     "data": {
      "text/plain": [
       "[('Robocraft', 1),\n",
       " ('BLOCKADE 3D', 1),\n",
       " (\"Garry's Mod\", 1),\n",
       " ('ARK Survival Evolved', 1),\n",
       " ('Dino D-Day', 1),\n",
       " ('AdVenture Capitalist', 1)]"
      ]
     },
     "execution_count": 52,
     "metadata": {},
     "output_type": "execute_result"
    }
   ],
   "source": [
    "simi_user_recs('100519466')"
   ]
  },
  {
   "cell_type": "markdown",
   "id": "71301b06",
   "metadata": {},
   "source": [
    "# Collaborative Filtering using KNN"
   ]
  },
  {
   "cell_type": "code",
   "execution_count": 53,
   "id": "a4c78e78",
   "metadata": {},
   "outputs": [
    {
     "data": {
      "text/html": [
       "<style>#sk-container-id-1 {color: black;background-color: white;}#sk-container-id-1 pre{padding: 0;}#sk-container-id-1 div.sk-toggleable {background-color: white;}#sk-container-id-1 label.sk-toggleable__label {cursor: pointer;display: block;width: 100%;margin-bottom: 0;padding: 0.3em;box-sizing: border-box;text-align: center;}#sk-container-id-1 label.sk-toggleable__label-arrow:before {content: \"▸\";float: left;margin-right: 0.25em;color: #696969;}#sk-container-id-1 label.sk-toggleable__label-arrow:hover:before {color: black;}#sk-container-id-1 div.sk-estimator:hover label.sk-toggleable__label-arrow:before {color: black;}#sk-container-id-1 div.sk-toggleable__content {max-height: 0;max-width: 0;overflow: hidden;text-align: left;background-color: #f0f8ff;}#sk-container-id-1 div.sk-toggleable__content pre {margin: 0.2em;color: black;border-radius: 0.25em;background-color: #f0f8ff;}#sk-container-id-1 input.sk-toggleable__control:checked~div.sk-toggleable__content {max-height: 200px;max-width: 100%;overflow: auto;}#sk-container-id-1 input.sk-toggleable__control:checked~label.sk-toggleable__label-arrow:before {content: \"▾\";}#sk-container-id-1 div.sk-estimator input.sk-toggleable__control:checked~label.sk-toggleable__label {background-color: #d4ebff;}#sk-container-id-1 div.sk-label input.sk-toggleable__control:checked~label.sk-toggleable__label {background-color: #d4ebff;}#sk-container-id-1 input.sk-hidden--visually {border: 0;clip: rect(1px 1px 1px 1px);clip: rect(1px, 1px, 1px, 1px);height: 1px;margin: -1px;overflow: hidden;padding: 0;position: absolute;width: 1px;}#sk-container-id-1 div.sk-estimator {font-family: monospace;background-color: #f0f8ff;border: 1px dotted black;border-radius: 0.25em;box-sizing: border-box;margin-bottom: 0.5em;}#sk-container-id-1 div.sk-estimator:hover {background-color: #d4ebff;}#sk-container-id-1 div.sk-parallel-item::after {content: \"\";width: 100%;border-bottom: 1px solid gray;flex-grow: 1;}#sk-container-id-1 div.sk-label:hover label.sk-toggleable__label {background-color: #d4ebff;}#sk-container-id-1 div.sk-serial::before {content: \"\";position: absolute;border-left: 1px solid gray;box-sizing: border-box;top: 0;bottom: 0;left: 50%;z-index: 0;}#sk-container-id-1 div.sk-serial {display: flex;flex-direction: column;align-items: center;background-color: white;padding-right: 0.2em;padding-left: 0.2em;position: relative;}#sk-container-id-1 div.sk-item {position: relative;z-index: 1;}#sk-container-id-1 div.sk-parallel {display: flex;align-items: stretch;justify-content: center;background-color: white;position: relative;}#sk-container-id-1 div.sk-item::before, #sk-container-id-1 div.sk-parallel-item::before {content: \"\";position: absolute;border-left: 1px solid gray;box-sizing: border-box;top: 0;bottom: 0;left: 50%;z-index: -1;}#sk-container-id-1 div.sk-parallel-item {display: flex;flex-direction: column;z-index: 1;position: relative;background-color: white;}#sk-container-id-1 div.sk-parallel-item:first-child::after {align-self: flex-end;width: 50%;}#sk-container-id-1 div.sk-parallel-item:last-child::after {align-self: flex-start;width: 50%;}#sk-container-id-1 div.sk-parallel-item:only-child::after {width: 0;}#sk-container-id-1 div.sk-dashed-wrapped {border: 1px dashed gray;margin: 0 0.4em 0.5em 0.4em;box-sizing: border-box;padding-bottom: 0.4em;background-color: white;}#sk-container-id-1 div.sk-label label {font-family: monospace;font-weight: bold;display: inline-block;line-height: 1.2em;}#sk-container-id-1 div.sk-label-container {text-align: center;}#sk-container-id-1 div.sk-container {/* jupyter's `normalize.less` sets `[hidden] { display: none; }` but bootstrap.min.css set `[hidden] { display: none !important; }` so we also need the `!important` here to be able to override the default hidden behavior on the sphinx rendered scikit-learn.org. See: https://github.com/scikit-learn/scikit-learn/issues/21755 */display: inline-block !important;position: relative;}#sk-container-id-1 div.sk-text-repr-fallback {display: none;}</style><div id=\"sk-container-id-1\" class=\"sk-top-container\"><div class=\"sk-text-repr-fallback\"><pre>NearestNeighbors(algorithm=&#x27;brute&#x27;, metric=&#x27;cosine&#x27;, n_jobs=-1, n_neighbors=20,\n",
       "                 radius=1)</pre><b>In a Jupyter environment, please rerun this cell to show the HTML representation or trust the notebook. <br />On GitHub, the HTML representation is unable to render, please try loading this page with nbviewer.org.</b></div><div class=\"sk-container\" hidden><div class=\"sk-item\"><div class=\"sk-estimator sk-toggleable\"><input class=\"sk-toggleable__control sk-hidden--visually\" id=\"sk-estimator-id-1\" type=\"checkbox\" checked><label for=\"sk-estimator-id-1\" class=\"sk-toggleable__label sk-toggleable__label-arrow\">NearestNeighbors</label><div class=\"sk-toggleable__content\"><pre>NearestNeighbors(algorithm=&#x27;brute&#x27;, metric=&#x27;cosine&#x27;, n_jobs=-1, n_neighbors=20,\n",
       "                 radius=1)</pre></div></div></div></div></div>"
      ],
      "text/plain": [
       "NearestNeighbors(algorithm='brute', metric='cosine', n_jobs=-1, n_neighbors=20,\n",
       "                 radius=1)"
      ]
     },
     "execution_count": 53,
     "metadata": {},
     "output_type": "execute_result"
    }
   ],
   "source": [
    "from sklearn.neighbors import NearestNeighbors\n",
    "knn = NearestNeighbors(algorithm='brute',leaf_size=30,metric='cosine',metric_params=None,n_jobs=-1,n_neighbors=20,p=2,radius=1)\n",
    "knn.fit(pv)"
   ]
  },
  {
   "cell_type": "code",
   "execution_count": 54,
   "id": "e44e523c",
   "metadata": {},
   "outputs": [
    {
     "name": "stdout",
     "output_type": "stream",
     "text": [
      "The Choosen Game =  Shadowrun Returns\n"
     ]
    }
   ],
   "source": [
    "qury = np.random.choice(pv.shape[0])\n",
    "print(\"The Choosen Game = \",pv.index[qury])"
   ]
  },
  {
   "cell_type": "code",
   "execution_count": 55,
   "id": "7af18625",
   "metadata": {},
   "outputs": [],
   "source": [
    "distance , indices = knn.kneighbors(pv.iloc[qury,:].values.reshape(1,-1),n_neighbors=6)\n"
   ]
  },
  {
   "cell_type": "code",
   "execution_count": 56,
   "id": "a0afdffd",
   "metadata": {},
   "outputs": [
    {
     "name": "stdout",
     "output_type": "stream",
     "text": [
      "Recommendation for Shadowrun Returns \n",
      "\n",
      "1 : Brothers - A Tale of Two Sons with distance of 0.8453440279400293\n",
      "2 : Endless Legend with distance of 0.8462600298092025\n",
      "3 : Antichamber with distance of 0.8553675687558464\n",
      "4 : Warhammer 40,000 Space Marine with distance of 0.8598587812257541\n",
      "5 : WAKFU with distance of 0.8700671059183369\n"
     ]
    }
   ],
   "source": [
    "for i in range(0,len(distance.flatten())):\n",
    "    if i == 0:\n",
    "        print('Recommendation for {0} \\n'.format(pv.index[qury]))\n",
    "    else:\n",
    "        print('{0} : {1} with distance of {2}'.format(i,pv.index[indices.flatten()[i]], distance.flatten()[i]))"
   ]
  },
  {
   "cell_type": "code",
   "execution_count": 57,
   "id": "d2da6e62",
   "metadata": {},
   "outputs": [],
   "source": [
    "import pickle\n"
   ]
  },
  {
   "cell_type": "code",
   "execution_count": 58,
   "id": "5967cae3",
   "metadata": {},
   "outputs": [],
   "source": [
    "pickle.dump(df.to_dict(),open('game_dict.pkl','wb'))"
   ]
  },
  {
   "cell_type": "code",
   "execution_count": 59,
   "id": "fbb5fdf2",
   "metadata": {},
   "outputs": [],
   "source": [
    "pickle.dump(pv.to_dict(),open('pivot_dict.pkl','wb'))"
   ]
  },
  {
   "cell_type": "code",
   "execution_count": 64,
   "id": "9d7bb9ee",
   "metadata": {},
   "outputs": [],
   "source": [
    "pickle.dump(top_games,open('top_games.pkl','wb'))"
   ]
  },
  {
   "cell_type": "code",
   "execution_count": 65,
   "id": "c0748df3",
   "metadata": {},
   "outputs": [],
   "source": [
    "pickle.dump(user_id,open('top_user.pkl','wb'))"
   ]
  },
  {
   "cell_type": "code",
   "execution_count": 66,
   "id": "359e95c4",
   "metadata": {},
   "outputs": [],
   "source": [
    "pickle.dump(simi_user_recs,open('simi_user_recs.pkl','wb'))"
   ]
  },
  {
   "cell_type": "code",
   "execution_count": 68,
   "id": "fcef950e",
   "metadata": {},
   "outputs": [],
   "source": [
    "pickle.dump(df_item.to_dict(),open('df_item.pkl','wb'))"
   ]
  },
  {
   "cell_type": "code",
   "execution_count": 69,
   "id": "5d3df226",
   "metadata": {},
   "outputs": [],
   "source": [
    "pickle.dump(df_user.to_dict(),open('df_user.pkl','wb'))"
   ]
  },
  {
   "cell_type": "code",
   "execution_count": 71,
   "id": "c128a872",
   "metadata": {},
   "outputs": [
    {
     "data": {
      "text/html": [
       "<div>\n",
       "<style scoped>\n",
       "    .dataframe tbody tr th:only-of-type {\n",
       "        vertical-align: middle;\n",
       "    }\n",
       "\n",
       "    .dataframe tbody tr th {\n",
       "        vertical-align: top;\n",
       "    }\n",
       "\n",
       "    .dataframe thead th {\n",
       "        text-align: right;\n",
       "    }\n",
       "</style>\n",
       "<table border=\"1\" class=\"dataframe\">\n",
       "  <thead>\n",
       "    <tr style=\"text-align: right;\">\n",
       "      <th>game_name</th>\n",
       "      <th>7 Days to Die</th>\n",
       "      <th>APB Reloaded</th>\n",
       "      <th>ARK Survival Evolved</th>\n",
       "      <th>Ace of Spades</th>\n",
       "      <th>AdVenture Capitalist</th>\n",
       "      <th>Aftermath</th>\n",
       "      <th>Age of Chivalry</th>\n",
       "      <th>Age of Empires II HD Edition</th>\n",
       "      <th>Age of Empires III Complete Collection</th>\n",
       "      <th>Age of Mythology Extended Edition</th>\n",
       "      <th>...</th>\n",
       "      <th>Warhammer 40,000 Dawn of War II - Chaos Rising</th>\n",
       "      <th>Warhammer 40,000 Space Marine</th>\n",
       "      <th>Wasteland 2</th>\n",
       "      <th>Watch_Dogs</th>\n",
       "      <th>Wolfenstein The New Order</th>\n",
       "      <th>Worms Reloaded</th>\n",
       "      <th>Worms Revolution</th>\n",
       "      <th>XCOM Enemy Unknown</th>\n",
       "      <th>Zombie Panic Source</th>\n",
       "      <th>theHunter</th>\n",
       "    </tr>\n",
       "    <tr>\n",
       "      <th>game_name</th>\n",
       "      <th></th>\n",
       "      <th></th>\n",
       "      <th></th>\n",
       "      <th></th>\n",
       "      <th></th>\n",
       "      <th></th>\n",
       "      <th></th>\n",
       "      <th></th>\n",
       "      <th></th>\n",
       "      <th></th>\n",
       "      <th></th>\n",
       "      <th></th>\n",
       "      <th></th>\n",
       "      <th></th>\n",
       "      <th></th>\n",
       "      <th></th>\n",
       "      <th></th>\n",
       "      <th></th>\n",
       "      <th></th>\n",
       "      <th></th>\n",
       "      <th></th>\n",
       "    </tr>\n",
       "  </thead>\n",
       "  <tbody>\n",
       "    <tr>\n",
       "      <th>7 Days to Die</th>\n",
       "      <td>1.000000</td>\n",
       "      <td>0.011889</td>\n",
       "      <td>0.023910</td>\n",
       "      <td>0.003702</td>\n",
       "      <td>-0.006406</td>\n",
       "      <td>-0.036463</td>\n",
       "      <td>0.047295</td>\n",
       "      <td>0.049644</td>\n",
       "      <td>-0.003137</td>\n",
       "      <td>0.000000</td>\n",
       "      <td>...</td>\n",
       "      <td>-0.038894</td>\n",
       "      <td>0.017805</td>\n",
       "      <td>-0.027081</td>\n",
       "      <td>0.011157</td>\n",
       "      <td>0.028949</td>\n",
       "      <td>0.049210</td>\n",
       "      <td>-0.028614</td>\n",
       "      <td>0.063191</td>\n",
       "      <td>0.061200</td>\n",
       "      <td>-0.034545</td>\n",
       "    </tr>\n",
       "    <tr>\n",
       "      <th>APB Reloaded</th>\n",
       "      <td>0.011889</td>\n",
       "      <td>1.000000</td>\n",
       "      <td>-0.046199</td>\n",
       "      <td>-0.012738</td>\n",
       "      <td>-0.030157</td>\n",
       "      <td>-0.005157</td>\n",
       "      <td>-0.000540</td>\n",
       "      <td>-0.013881</td>\n",
       "      <td>-0.008468</td>\n",
       "      <td>0.004806</td>\n",
       "      <td>...</td>\n",
       "      <td>0.000280</td>\n",
       "      <td>0.027197</td>\n",
       "      <td>0.000000</td>\n",
       "      <td>0.000000</td>\n",
       "      <td>0.010149</td>\n",
       "      <td>-0.038028</td>\n",
       "      <td>-0.007166</td>\n",
       "      <td>-0.008280</td>\n",
       "      <td>0.024256</td>\n",
       "      <td>-0.051036</td>\n",
       "    </tr>\n",
       "    <tr>\n",
       "      <th>ARK Survival Evolved</th>\n",
       "      <td>0.023910</td>\n",
       "      <td>-0.046199</td>\n",
       "      <td>1.000000</td>\n",
       "      <td>-0.006097</td>\n",
       "      <td>-0.006445</td>\n",
       "      <td>0.000000</td>\n",
       "      <td>0.023592</td>\n",
       "      <td>0.008420</td>\n",
       "      <td>-0.020514</td>\n",
       "      <td>-0.009609</td>\n",
       "      <td>...</td>\n",
       "      <td>-0.031033</td>\n",
       "      <td>0.000214</td>\n",
       "      <td>-0.014996</td>\n",
       "      <td>0.022721</td>\n",
       "      <td>0.000000</td>\n",
       "      <td>-0.023283</td>\n",
       "      <td>0.000231</td>\n",
       "      <td>0.001994</td>\n",
       "      <td>0.028022</td>\n",
       "      <td>-0.015766</td>\n",
       "    </tr>\n",
       "    <tr>\n",
       "      <th>Ace of Spades</th>\n",
       "      <td>0.003702</td>\n",
       "      <td>-0.012738</td>\n",
       "      <td>-0.006097</td>\n",
       "      <td>1.000000</td>\n",
       "      <td>-0.003154</td>\n",
       "      <td>0.000000</td>\n",
       "      <td>-0.034444</td>\n",
       "      <td>-0.006776</td>\n",
       "      <td>0.000000</td>\n",
       "      <td>0.000000</td>\n",
       "      <td>...</td>\n",
       "      <td>0.000858</td>\n",
       "      <td>-0.022283</td>\n",
       "      <td>0.000000</td>\n",
       "      <td>0.000000</td>\n",
       "      <td>0.000000</td>\n",
       "      <td>0.050384</td>\n",
       "      <td>0.053498</td>\n",
       "      <td>0.009763</td>\n",
       "      <td>-0.022023</td>\n",
       "      <td>-0.029286</td>\n",
       "    </tr>\n",
       "    <tr>\n",
       "      <th>AdVenture Capitalist</th>\n",
       "      <td>-0.006406</td>\n",
       "      <td>-0.030157</td>\n",
       "      <td>-0.006445</td>\n",
       "      <td>-0.003154</td>\n",
       "      <td>1.000000</td>\n",
       "      <td>-0.043081</td>\n",
       "      <td>0.035806</td>\n",
       "      <td>-0.029016</td>\n",
       "      <td>-0.002733</td>\n",
       "      <td>0.000000</td>\n",
       "      <td>...</td>\n",
       "      <td>0.019090</td>\n",
       "      <td>0.008819</td>\n",
       "      <td>0.000000</td>\n",
       "      <td>0.000000</td>\n",
       "      <td>-0.003790</td>\n",
       "      <td>0.000000</td>\n",
       "      <td>0.014821</td>\n",
       "      <td>-0.014461</td>\n",
       "      <td>0.000000</td>\n",
       "      <td>0.086266</td>\n",
       "    </tr>\n",
       "  </tbody>\n",
       "</table>\n",
       "<p>5 rows × 431 columns</p>\n",
       "</div>"
      ],
      "text/plain": [
       "game_name             7 Days to Die  APB Reloaded  ARK Survival Evolved  \\\n",
       "game_name                                                                 \n",
       "7 Days to Die              1.000000      0.011889              0.023910   \n",
       "APB Reloaded               0.011889      1.000000             -0.046199   \n",
       "ARK Survival Evolved       0.023910     -0.046199              1.000000   \n",
       "Ace of Spades              0.003702     -0.012738             -0.006097   \n",
       "AdVenture Capitalist      -0.006406     -0.030157             -0.006445   \n",
       "\n",
       "game_name             Ace of Spades  AdVenture Capitalist  Aftermath  \\\n",
       "game_name                                                              \n",
       "7 Days to Die              0.003702             -0.006406  -0.036463   \n",
       "APB Reloaded              -0.012738             -0.030157  -0.005157   \n",
       "ARK Survival Evolved      -0.006097             -0.006445   0.000000   \n",
       "Ace of Spades              1.000000             -0.003154   0.000000   \n",
       "AdVenture Capitalist      -0.003154              1.000000  -0.043081   \n",
       "\n",
       "game_name             Age of Chivalry  Age of Empires II HD Edition  \\\n",
       "game_name                                                             \n",
       "7 Days to Die                0.047295                      0.049644   \n",
       "APB Reloaded                -0.000540                     -0.013881   \n",
       "ARK Survival Evolved         0.023592                      0.008420   \n",
       "Ace of Spades               -0.034444                     -0.006776   \n",
       "AdVenture Capitalist         0.035806                     -0.029016   \n",
       "\n",
       "game_name             Age of Empires III Complete Collection  \\\n",
       "game_name                                                      \n",
       "7 Days to Die                                      -0.003137   \n",
       "APB Reloaded                                       -0.008468   \n",
       "ARK Survival Evolved                               -0.020514   \n",
       "Ace of Spades                                       0.000000   \n",
       "AdVenture Capitalist                               -0.002733   \n",
       "\n",
       "game_name             Age of Mythology Extended Edition  ...  \\\n",
       "game_name                                                ...   \n",
       "7 Days to Die                                  0.000000  ...   \n",
       "APB Reloaded                                   0.004806  ...   \n",
       "ARK Survival Evolved                          -0.009609  ...   \n",
       "Ace of Spades                                  0.000000  ...   \n",
       "AdVenture Capitalist                           0.000000  ...   \n",
       "\n",
       "game_name             Warhammer 40,000 Dawn of War II - Chaos Rising  \\\n",
       "game_name                                                              \n",
       "7 Days to Die                                              -0.038894   \n",
       "APB Reloaded                                                0.000280   \n",
       "ARK Survival Evolved                                       -0.031033   \n",
       "Ace of Spades                                               0.000858   \n",
       "AdVenture Capitalist                                        0.019090   \n",
       "\n",
       "game_name             Warhammer 40,000 Space Marine  Wasteland 2  Watch_Dogs  \\\n",
       "game_name                                                                      \n",
       "7 Days to Die                              0.017805    -0.027081    0.011157   \n",
       "APB Reloaded                               0.027197     0.000000    0.000000   \n",
       "ARK Survival Evolved                       0.000214    -0.014996    0.022721   \n",
       "Ace of Spades                             -0.022283     0.000000    0.000000   \n",
       "AdVenture Capitalist                       0.008819     0.000000    0.000000   \n",
       "\n",
       "game_name             Wolfenstein The New Order  Worms Reloaded  \\\n",
       "game_name                                                         \n",
       "7 Days to Die                          0.028949        0.049210   \n",
       "APB Reloaded                           0.010149       -0.038028   \n",
       "ARK Survival Evolved                   0.000000       -0.023283   \n",
       "Ace of Spades                          0.000000        0.050384   \n",
       "AdVenture Capitalist                  -0.003790        0.000000   \n",
       "\n",
       "game_name             Worms Revolution  XCOM Enemy Unknown  \\\n",
       "game_name                                                    \n",
       "7 Days to Die                -0.028614            0.063191   \n",
       "APB Reloaded                 -0.007166           -0.008280   \n",
       "ARK Survival Evolved          0.000231            0.001994   \n",
       "Ace of Spades                 0.053498            0.009763   \n",
       "AdVenture Capitalist          0.014821           -0.014461   \n",
       "\n",
       "game_name             Zombie Panic Source  theHunter  \n",
       "game_name                                             \n",
       "7 Days to Die                    0.061200  -0.034545  \n",
       "APB Reloaded                     0.024256  -0.051036  \n",
       "ARK Survival Evolved             0.028022  -0.015766  \n",
       "Ace of Spades                   -0.022023  -0.029286  \n",
       "AdVenture Capitalist             0.000000   0.086266  \n",
       "\n",
       "[5 rows x 431 columns]"
      ]
     },
     "execution_count": 71,
     "metadata": {},
     "output_type": "execute_result"
    }
   ],
   "source": []
  },
  {
   "cell_type": "code",
   "execution_count": 72,
   "id": "d890ec72",
   "metadata": {},
   "outputs": [
    {
     "data": {
      "text/html": [
       "<div>\n",
       "<style scoped>\n",
       "    .dataframe tbody tr th:only-of-type {\n",
       "        vertical-align: middle;\n",
       "    }\n",
       "\n",
       "    .dataframe tbody tr th {\n",
       "        vertical-align: top;\n",
       "    }\n",
       "\n",
       "    .dataframe thead th {\n",
       "        text-align: right;\n",
       "    }\n",
       "</style>\n",
       "<table border=\"1\" class=\"dataframe\">\n",
       "  <thead>\n",
       "    <tr style=\"text-align: right;\">\n",
       "      <th></th>\n",
       "      <th>game_id</th>\n",
       "      <th>game_name</th>\n",
       "      <th>rating</th>\n",
       "    </tr>\n",
       "  </thead>\n",
       "  <tbody>\n",
       "    <tr>\n",
       "      <th>0</th>\n",
       "      <td>151603712</td>\n",
       "      <td>The Elder Scrolls V Skyrim</td>\n",
       "      <td>5</td>\n",
       "    </tr>\n",
       "    <tr>\n",
       "      <th>1</th>\n",
       "      <td>59945701</td>\n",
       "      <td>The Elder Scrolls V Skyrim</td>\n",
       "      <td>3</td>\n",
       "    </tr>\n",
       "    <tr>\n",
       "      <th>2</th>\n",
       "      <td>92107940</td>\n",
       "      <td>The Elder Scrolls V Skyrim</td>\n",
       "      <td>5</td>\n",
       "    </tr>\n",
       "    <tr>\n",
       "      <th>3</th>\n",
       "      <td>250006052</td>\n",
       "      <td>The Elder Scrolls V Skyrim</td>\n",
       "      <td>5</td>\n",
       "    </tr>\n",
       "    <tr>\n",
       "      <th>4</th>\n",
       "      <td>11373749</td>\n",
       "      <td>The Elder Scrolls V Skyrim</td>\n",
       "      <td>5</td>\n",
       "    </tr>\n",
       "  </tbody>\n",
       "</table>\n",
       "</div>"
      ],
      "text/plain": [
       "     game_id                   game_name  rating\n",
       "0  151603712  The Elder Scrolls V Skyrim       5\n",
       "1   59945701  The Elder Scrolls V Skyrim       3\n",
       "2   92107940  The Elder Scrolls V Skyrim       5\n",
       "3  250006052  The Elder Scrolls V Skyrim       5\n",
       "4   11373749  The Elder Scrolls V Skyrim       5"
      ]
     },
     "execution_count": 72,
     "metadata": {},
     "output_type": "execute_result"
    }
   ],
   "source": [
    "df.head()"
   ]
  },
  {
   "cell_type": "code",
   "execution_count": 75,
   "id": "41c39d0e",
   "metadata": {},
   "outputs": [
    {
     "data": {
      "text/plain": [
       "array(['The Elder Scrolls V Skyrim', 'The Elder Scrolls V Skyrim',\n",
       "       'The Elder Scrolls V Skyrim', ...,\n",
       "       'Warhammer 40,000 Dawn of War  Soulstorm',\n",
       "       'Warhammer 40,000 Dawn of War  Soulstorm',\n",
       "       'Warhammer 40,000 Dawn of War  Soulstorm'], dtype=object)"
      ]
     },
     "execution_count": 75,
     "metadata": {},
     "output_type": "execute_result"
    }
   ],
   "source": [
    "df['game_name'].values\n"
   ]
  },
  {
   "cell_type": "code",
   "execution_count": null,
   "id": "52024f60",
   "metadata": {},
   "outputs": [],
   "source": []
  }
 ],
 "metadata": {
  "kernelspec": {
   "display_name": "Python 3 (ipykernel)",
   "language": "python",
   "name": "python3"
  },
  "language_info": {
   "codemirror_mode": {
    "name": "ipython",
    "version": 3
   },
   "file_extension": ".py",
   "mimetype": "text/x-python",
   "name": "python",
   "nbconvert_exporter": "python",
   "pygments_lexer": "ipython3",
   "version": "3.9.7"
  }
 },
 "nbformat": 4,
 "nbformat_minor": 5
}
